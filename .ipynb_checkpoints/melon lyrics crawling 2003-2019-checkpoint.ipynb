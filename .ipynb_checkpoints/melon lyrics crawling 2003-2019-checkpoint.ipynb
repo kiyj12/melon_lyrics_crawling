{
 "cells": [
  {
   "cell_type": "code",
   "execution_count": null,
   "metadata": {},
   "outputs": [],
   "source": [
    "from bs4 import BeautifulSoup\n",
    "from selenium import webdriver\n",
    "driver = webdriver.Chrome('chromedriver.exe')\n",
    "from selenium.webdriver.common.keys import Keys\n",
    "import re\n",
    "import pandas as pd\n",
    "import time\n",
    "import random"
   ]
  },
  {
   "cell_type": "code",
   "execution_count": null,
   "metadata": {},
   "outputs": [],
   "source": [
    "driver.get(\"https://www.melon.com\")"
   ]
  },
  {
   "cell_type": "code",
   "execution_count": null,
   "metadata": {},
   "outputs": [],
   "source": [
    "for i in range(2003, 2020):\n",
    "    time.sleep(random.uniform(10, 75))\n",
    "    driver.get(\"https://www.melon.com/chart/age/index.htm?chartType=YE&chartGenre=KPOP&chartDate=\"\n",
    "               + str(i))\n",
    "    time.sleep(random.uniform(10, 75))\n",
    "    \n",
    "    title = driver.find_elements_by_class_name('ellipsis.rank01')\n",
    "    title2 = []\n",
    "    for a in title:\n",
    "        title2.append(a.text)\n",
    "    \n",
    "    del title2[50:]\n",
    "\n",
    "\n",
    "    singer = driver.find_elements_by_class_name('ellipsis.rank02')\n",
    "    singer2 = []\n",
    "    for b in singer:\n",
    "        singer2.append(b.text)\n",
    "        \n",
    "    del singer2[50:]\n",
    "\n",
    "\n",
    "    songTagList = driver.find_elements_by_css_selector('#lst50 > td:nth-child(1) > div > input')\n",
    "\n",
    "    number = []\n",
    "    for c in songTagList:\n",
    "        number.append(c. get_attribute('value'))\n",
    "\n",
    "\n",
    "    LYRIC = []\n",
    "    for k in number:\n",
    "        driver.get('https://www.melon.com/song/detail.htm?songId=' + k)\n",
    "        lyric = driver.find_element_by_class_name(\"lyric\")\n",
    "        LYRIC.append(lyric.text)\n",
    "\n",
    "    df = pd.DataFrame({\"제목\":title2, \"가수\":singer2, \"가사\":LYRIC})\n",
    "    df.to_excel(\"%s 멜론TOP100 가사.xlsx\" %(i), encoding='utf-8')"
   ]
  },
  {
   "cell_type": "code",
   "execution_count": null,
   "metadata": {},
   "outputs": [],
   "source": [
    "\n",
    "for i in range(2003, 2020):\n",
    "\n",
    "    time.sleep(random.uniform(10, 75))\n",
    "    driver.get(\"https://www.melon.com/chart/age/index.htm?chartType=YE&chartGenre=KPOP&chartDate=\"\n",
    "               + str(i) + \"#params%5Bidx%5D=51\")\n",
    "    time.sleep(random.uniform(10, 75))\n",
    "    title = driver.find_elements_by_class_name('ellipsis.rank01')\n",
    "    title2 = []\n",
    "    for a in title:\n",
    "        title2.append(a.text)\n",
    "\n",
    "        \n",
    "    del title2[:50]\n",
    "\n",
    "    singer = driver.find_elements_by_class_name('ellipsis.rank02')\n",
    "    singer2 = []\n",
    "    for b in singer:\n",
    "        singer2.append(b.text)\n",
    "\n",
    "\n",
    "    del singer2[:50]\n",
    "\n",
    "    songTagList = driver.find_elements_by_css_selector('#lst100 > td:nth-child(1) > div > input')\n",
    "\n",
    "    number = []\n",
    "    for c in songTagList:\n",
    "        number.append(c. get_attribute('value'))\n",
    "\n",
    "\n",
    "    LYRIC = []\n",
    "    for k in number:\n",
    "        driver.get('https://www.melon.com/song/detail.htm?songId=' + k)\n",
    "        lyric = driver.find_element_by_class_name(\"lyric\")\n",
    "        LYRIC.append(lyric.text)\n",
    "\n",
    "    df = pd.DataFrame({\"제목\":title2, \"가수\":singer2, \"가사\":LYRIC})\n",
    "    df.to_excel(\"%s 멜론TOP100 가사.xlsx\" %(i), encoding='utf-8')"
   ]
  },
  {
   "cell_type": "code",
   "execution_count": null,
   "metadata": {},
   "outputs": [],
   "source": [
    "i = 2003\n",
    "driver.get(\"https://www.melon.com/chart/age/index.htm?chartType=YE&chartGenre=KPOP&chartDate=2003#params%5Bidx%5D=51\")\n",
    "\n",
    "title = driver.find_elements_by_class_name('ellipsis.rank01')\n",
    "title2 = []\n",
    "for a in title:\n",
    "    title2.append(a.text)\n",
    "    \n",
    "del title2[:50]\n",
    "\n",
    "title2"
   ]
  },
  {
   "cell_type": "code",
   "execution_count": null,
   "metadata": {},
   "outputs": [],
   "source": []
  }
 ],
 "metadata": {
  "kernelspec": {
   "display_name": "Python 3",
   "language": "python",
   "name": "python3"
  },
  "language_info": {
   "codemirror_mode": {
    "name": "ipython",
    "version": 3
   },
   "file_extension": ".py",
   "mimetype": "text/x-python",
   "name": "python",
   "nbconvert_exporter": "python",
   "pygments_lexer": "ipython3",
   "version": "3.8.3"
  }
 },
 "nbformat": 4,
 "nbformat_minor": 4
}
