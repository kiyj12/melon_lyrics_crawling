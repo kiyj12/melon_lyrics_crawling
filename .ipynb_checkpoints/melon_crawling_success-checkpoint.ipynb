{
 "cells": [
  {
   "cell_type": "code",
   "execution_count": null,
   "metadata": {},
   "outputs": [],
   "source": [
    "from bs4 import BeautifulSoup\n",
    "from selenium import webdriver\n",
    "driver = webdriver.Chrome('chromedriver.exe')\n",
    "from selenium.webdriver.common.keys import Keys\n",
    "import re\n",
    "import pandas as pd\n",
    "import time"
   ]
  },
  {
   "cell_type": "code",
   "execution_count": null,
   "metadata": {},
   "outputs": [],
   "source": [
    "driver.get(\"https://www.melon.com/chart/age/index.htm?chartType=YE&chartGenre=KPOP&chartDate=2019\")"
   ]
  },
  {
   "cell_type": "code",
   "execution_count": null,
   "metadata": {
    "scrolled": false
   },
   "outputs": [],
   "source": [
    "# 제목 크롤링\n",
    "\n",
    "title = driver.find_elements_by_class_name('ellipsis.rank01')\n",
    "\n",
    "title2 = []\n",
    "for i in title:\n",
    "    title2.append(i.text)\n",
    "\n",
    "del title2[0]\n",
    "del title2[50:]\n",
    "\n",
    "title2"
   ]
  },
  {
   "cell_type": "code",
   "execution_count": null,
   "metadata": {},
   "outputs": [],
   "source": [
    "# 가수 크롤링\n",
    "\n",
    "singer = driver.find_elements_by_class_name('ellipsis.rank02')\n",
    "singer2 = []\n",
    "for i in singer:\n",
    "    singer2.append(i.text)\n",
    "    \n",
    "del singer2[0]\n",
    "del singer2[50:]\n",
    "\n",
    "singer2"
   ]
  },
  {
   "cell_type": "code",
   "execution_count": null,
   "metadata": {},
   "outputs": [],
   "source": [
    "# 곡 가사 크롤링을 위한 곡 고유 번호 크롤링\n",
    "\n",
    "songTagList = driver.find_elements_by_css_selector('#lst50 > td:nth-child(1) > div > input')\n",
    "\n",
    "number = []\n",
    "for i in songTagList:\n",
    "    number.append(i. get_attribute('value'))\n",
    "    \n",
    "number"
   ]
  },
  {
   "cell_type": "code",
   "execution_count": null,
   "metadata": {},
   "outputs": [],
   "source": [
    "# 가사 크롤링\n",
    "\n",
    "LYRIC = []\n",
    "for i in number:\n",
    "    driver.get('https://www.melon.com/song/detail.htm?songId=' + i)\n",
    "    lyric = driver.find_element_by_class_name(\"lyric\")\n",
    "    LYRIC.append(lyric.text)\n",
    "    \n",
    "# \\n 없애기\n",
    "#LYRIC = []\n",
    "#for i in LYRIC:\n",
    "#    LYRIC2.append(i.replace(\"\\n\",\"\"))"
   ]
  },
  {
   "cell_type": "code",
   "execution_count": null,
   "metadata": {},
   "outputs": [],
   "source": [
    "# 엑셀로 저장\n",
    "\n",
    "df = pd.DataFrame({\"제목\":title2, \"가수\":singer2, \"가사\":LYRIC})\n",
    "df.to_excel(\"멜론TOP50 가사.xlsx\", encoding='utf-8')"
   ]
  }
 ],
 "metadata": {
  "kernelspec": {
   "display_name": "Python 3",
   "language": "python",
   "name": "python3"
  },
  "language_info": {
   "codemirror_mode": {
    "name": "ipython",
    "version": 3
   },
   "file_extension": ".py",
   "mimetype": "text/x-python",
   "name": "python",
   "nbconvert_exporter": "python",
   "pygments_lexer": "ipython3",
   "version": "3.8.3"
  }
 },
 "nbformat": 4,
 "nbformat_minor": 4
}
