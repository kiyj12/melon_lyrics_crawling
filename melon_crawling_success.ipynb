{
 "cells": [
  {
   "cell_type": "code",
   "execution_count": 1,
   "metadata": {},
   "outputs": [],
   "source": [
    "from bs4 import BeautifulSoup\n",
    "from selenium import webdriver\n",
    "driver = webdriver.Chrome('chromedriver.exe')\n",
    "from selenium.webdriver.common.keys import Keys\n",
    "import re\n",
    "import pandas as pd\n",
    "import time"
   ]
  },
  {
   "cell_type": "code",
   "execution_count": 2,
   "metadata": {},
   "outputs": [],
   "source": [
    "driver.get(\"https://www.melon.com/chart/age/index.htm?chartType=YE&chartGenre=KPOP&chartDate=2019\")"
   ]
  },
  {
   "cell_type": "code",
   "execution_count": 3,
   "metadata": {},
   "outputs": [
    {
     "data": {
      "text/plain": [
       "['그때가 좋았어',\n",
       " '작은 것들을 위한 시 (Boy With Luv) (Feat. Halsey)',\n",
       " '넘쳐흘러',\n",
       " '모든 날, 모든 순간 (Every day, Every Moment)',\n",
       " '너를 만나',\n",
       " '사계 (Four Seasons)',\n",
       " '주저하는 연인들을 위해',\n",
       " '니 소식',\n",
       " '오늘도 빛나는 너에게 (To You My Light) (Feat.이라온)',\n",
       " '벌써 12시',\n",
       " '술이 문제야',\n",
       " '옥탑방 (Rooftop)',\n",
       " '달라달라',\n",
       " '노래방에서',\n",
       " '이 노래가 클럽에서 나온다면',\n",
       " '포장마차',\n",
       " '나만, 봄',\n",
       " '사계 (하루살이)',\n",
       " '안녕',\n",
       " '180도',\n",
       " '너에게 못했던 내 마지막 말은',\n",
       " '신용재',\n",
       " '흔들리는 꽃들 속에서 네 샴푸향이 느껴진거야',\n",
       " '어떻게 이별까지 사랑하겠어, 널 사랑하는 거지',\n",
       " '솔직하게 말해서 나',\n",
       " '사월이 지나면 우리 헤어져요 (Beautiful goodbye)',\n",
       " 'FANCY',\n",
       " '헤어져줘서 고마워',\n",
       " '사랑이 식었다고 말해도 돼',\n",
       " '시든 꽃에 물을 주듯',\n",
       " '초록빛',\n",
       " '기억해줘요 내 모든 날과 그때를',\n",
       " '그대라는 시',\n",
       " 'Way Back Home',\n",
       " '봄날',\n",
       " 'IDOL',\n",
       " '멍청이(twit)',\n",
       " '신청곡 (Feat. SUGA of BTS)',\n",
       " '띵 (Prod. By 기리보이)',\n",
       " '너도 그냥 날 놓아주면 돼',\n",
       " '당신과는 천천히',\n",
       " 'Kill This Love',\n",
       " '이별하러 가는 길',\n",
       " 'SOLO',\n",
       " '비',\n",
       " '내 생에 아름다운',\n",
       " 'YES or YES',\n",
       " 'Love Shot',\n",
       " 'Goodbye',\n",
       " '']"
      ]
     },
     "execution_count": 3,
     "metadata": {},
     "output_type": "execute_result"
    }
   ],
   "source": [
    "title = driver.find_elements_by_class_name('ellipsis.rank01')\n",
    "\n",
    "title2 = []\n",
    "for i in title:\n",
    "    title2.append(i.text)\n",
    "\n",
    "del title2[0]\n",
    "del title2[50:]\n",
    "\n",
    "title2"
   ]
  },
  {
   "cell_type": "code",
   "execution_count": 4,
   "metadata": {},
   "outputs": [
    {
     "data": {
      "text/plain": [
       "['케이시 (Kassy)',\n",
       " '방탄소년단',\n",
       " '엠씨더맥스 (M.C the MAX)',\n",
       " '폴킴',\n",
       " '폴킴',\n",
       " '태연 (TAEYEON)',\n",
       " '잔나비',\n",
       " '송하예',\n",
       " '마크툽 (MAKTUB)',\n",
       " '청하',\n",
       " '장혜진, 윤민수(바이브)',\n",
       " '엔플라잉 (N.Flying)',\n",
       " 'ITZY (있지)',\n",
       " '장범준',\n",
       " '우디 (Woody)',\n",
       " '황인욱',\n",
       " '볼빨간사춘기',\n",
       " '엠씨더맥스 (M.C the MAX)',\n",
       " '폴킴',\n",
       " '벤',\n",
       " '다비치',\n",
       " '하은',\n",
       " '장범준',\n",
       " 'AKMU (악동뮤지션)',\n",
       " '김나영',\n",
       " '첸 (CHEN)',\n",
       " 'TWICE (트와이스)',\n",
       " '벤',\n",
       " '먼데이 키즈 (Monday Kiz)',\n",
       " 'HYNN (박혜원)',\n",
       " '폴킴',\n",
       " '거미',\n",
       " '태연 (TAEYEON)',\n",
       " '숀 (SHAUN)',\n",
       " '방탄소년단',\n",
       " '방탄소년단',\n",
       " '화사 (Hwa Sa)',\n",
       " '이소라',\n",
       " 'Jvcki Wai, 양홍원, Osshun Gum, 한요한',\n",
       " '윤건',\n",
       " '장범준',\n",
       " 'BLACKPINK',\n",
       " '임한별',\n",
       " '제니 (JENNIE)',\n",
       " '폴킴',\n",
       " '케이윌',\n",
       " 'TWICE (트와이스)',\n",
       " 'EXO',\n",
       " '박효신',\n",
       " '']"
      ]
     },
     "execution_count": 4,
     "metadata": {},
     "output_type": "execute_result"
    }
   ],
   "source": [
    "singer = driver.find_elements_by_class_name('ellipsis.rank02')\n",
    "singer2 = []\n",
    "for i in singer:\n",
    "    singer2.append(i.text)\n",
    "    \n",
    "del singer2[0]\n",
    "del singer2[50:]\n",
    "\n",
    "singer2"
   ]
  },
  {
   "cell_type": "code",
   "execution_count": 5,
   "metadata": {},
   "outputs": [
    {
     "data": {
      "text/plain": [
       "['31324607',\n",
       " '31524320',\n",
       " '31737197',\n",
       " '31532643',\n",
       " '30962526',\n",
       " '31388145',\n",
       " '31688205',\n",
       " '31666417',\n",
       " '31788850',\n",
       " '31853557',\n",
       " '31532438',\n",
       " '31870517',\n",
       " '31532656',\n",
       " '31606729',\n",
       " '31684636',\n",
       " '31576009',\n",
       " '31873020',\n",
       " '31709523',\n",
       " '31532642',\n",
       " '31984204',\n",
       " '31477685',\n",
       " '31804010',\n",
       " '31406357',\n",
       " '32003395',\n",
       " '32061975',\n",
       " '31854442',\n",
       " '31706215',\n",
       " '31754579',\n",
       " '31901475',\n",
       " '31829536',\n",
       " '31703498',\n",
       " '31565593',\n",
       " '31967064',\n",
       " '31938460',\n",
       " '31151836',\n",
       " '30244931',\n",
       " '31266290',\n",
       " '31608765',\n",
       " '31571110',\n",
       " '31554317',\n",
       " '31455159',\n",
       " '31684634',\n",
       " '31717822',\n",
       " '31304766',\n",
       " '31417871',\n",
       " '8235260',\n",
       " '31373277',\n",
       " '31403163',\n",
       " '31492319',\n",
       " '31777113']"
      ]
     },
     "execution_count": 5,
     "metadata": {},
     "output_type": "execute_result"
    }
   ],
   "source": [
    "songTagList = driver.find_elements_by_css_selector('#lst50 > td:nth-child(1) > div > input')\n",
    "\n",
    "number = []\n",
    "for i in songTagList:\n",
    "    number.append(i. get_attribute('value'))\n",
    "    \n",
    "number"
   ]
  },
  {
   "cell_type": "code",
   "execution_count": 6,
   "metadata": {},
   "outputs": [],
   "source": [
    "LYRIC = []\n",
    "for i in number:\n",
    "    driver.get('https://www.melon.com/song/detail.htm?songId=' + i)\n",
    "    lyric = driver.find_element_by_class_name(\"lyric\")\n",
    "    LYRIC.append(lyric.text)\n",
    "    \n",
    "# \\n 없애기\n",
    "#LYRIC = []\n",
    "#for i in LYRIC:\n",
    "#    LYRIC2.append(i.replace(\"\\n\",\"\"))"
   ]
  },
  {
   "cell_type": "code",
   "execution_count": 7,
   "metadata": {},
   "outputs": [],
   "source": [
    "df = pd.DataFrame({\"제목\":title2, \"가수\":singer2, \"가사\":LYRIC})\n",
    "df.to_excel(\"멜론TOP50 가사.xlsx\", encoding='utf-8')"
   ]
  },
  {
   "cell_type": "code",
   "execution_count": null,
   "metadata": {},
   "outputs": [],
   "source": []
  },
  {
   "cell_type": "code",
   "execution_count": null,
   "metadata": {},
   "outputs": [],
   "source": []
  },
  {
   "cell_type": "code",
   "execution_count": null,
   "metadata": {},
   "outputs": [],
   "source": []
  },
  {
   "cell_type": "code",
   "execution_count": null,
   "metadata": {},
   "outputs": [],
   "source": []
  }
 ],
 "metadata": {
  "kernelspec": {
   "display_name": "Python 3",
   "language": "python",
   "name": "python3"
  },
  "language_info": {
   "codemirror_mode": {
    "name": "ipython",
    "version": 3
   },
   "file_extension": ".py",
   "mimetype": "text/x-python",
   "name": "python",
   "nbconvert_exporter": "python",
   "pygments_lexer": "ipython3",
   "version": "3.8.3"
  }
 },
 "nbformat": 4,
 "nbformat_minor": 4
}
