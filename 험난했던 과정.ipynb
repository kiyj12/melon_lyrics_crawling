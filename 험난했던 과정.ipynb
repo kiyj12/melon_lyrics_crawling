{
 "cells": [
  {
   "cell_type": "code",
   "execution_count": 16,
   "metadata": {
    "scrolled": true
   },
   "outputs": [],
   "source": [
    "from bs4 import BeautifulSoup\n",
    "from selenium import webdriver\n",
    "driver = webdriver.Chrome('chromedriver.exe')\n",
    "from selenium.webdriver.common.keys import Keys\n",
    "import re\n",
    "import pandas as pd\n",
    "import time"
   ]
  },
  {
   "cell_type": "code",
   "execution_count": 17,
   "metadata": {},
   "outputs": [],
   "source": [
    "driver.get(\"https://www.melon.com/chart/age/index.htm?chartType=YE&chartGenre=KPOP&chartDate=2019\")"
   ]
  },
  {
   "cell_type": "code",
   "execution_count": 18,
   "metadata": {},
   "outputs": [
    {
     "data": {
      "text/plain": [
       "['그때가 좋았어',\n",
       " '작은 것들을 위한 시 (Boy With Luv) (Feat. Halsey)',\n",
       " '넘쳐흘러',\n",
       " '모든 날, 모든 순간 (Every day, Every Moment)',\n",
       " '너를 만나',\n",
       " '사계 (Four Seasons)',\n",
       " '주저하는 연인들을 위해',\n",
       " '니 소식',\n",
       " '오늘도 빛나는 너에게 (To You My Light) (Feat.이라온)',\n",
       " '벌써 12시',\n",
       " '술이 문제야',\n",
       " '옥탑방 (Rooftop)',\n",
       " '달라달라',\n",
       " '노래방에서',\n",
       " '이 노래가 클럽에서 나온다면',\n",
       " '포장마차',\n",
       " '나만, 봄',\n",
       " '사계 (하루살이)',\n",
       " '안녕',\n",
       " '180도',\n",
       " '너에게 못했던 내 마지막 말은',\n",
       " '신용재',\n",
       " '흔들리는 꽃들 속에서 네 샴푸향이 느껴진거야',\n",
       " '어떻게 이별까지 사랑하겠어, 널 사랑하는 거지',\n",
       " '솔직하게 말해서 나',\n",
       " '사월이 지나면 우리 헤어져요 (Beautiful goodbye)',\n",
       " 'FANCY',\n",
       " '헤어져줘서 고마워',\n",
       " '사랑이 식었다고 말해도 돼',\n",
       " '시든 꽃에 물을 주듯',\n",
       " '초록빛',\n",
       " '기억해줘요 내 모든 날과 그때를',\n",
       " '그대라는 시',\n",
       " 'Way Back Home',\n",
       " '봄날',\n",
       " 'IDOL',\n",
       " '멍청이(twit)',\n",
       " '신청곡 (Feat. SUGA of BTS)',\n",
       " '띵 (Prod. By 기리보이)',\n",
       " '너도 그냥 날 놓아주면 돼',\n",
       " '당신과는 천천히',\n",
       " 'Kill This Love',\n",
       " '이별하러 가는 길',\n",
       " 'SOLO',\n",
       " '비',\n",
       " '내 생에 아름다운',\n",
       " 'YES or YES',\n",
       " 'Love Shot',\n",
       " 'Goodbye',\n",
       " '']"
      ]
     },
     "execution_count": 18,
     "metadata": {},
     "output_type": "execute_result"
    }
   ],
   "source": [
    "# 제목 뽑기\n",
    "title = driver.find_elements_by_class_name('ellipsis.rank01')\n",
    "\n",
    "title2 = []\n",
    "for i in title:\n",
    "    title2.append(i.text)\n",
    "\n",
    "del title2[0]\n",
    "del title2[50:]\n",
    "\n",
    "title2"
   ]
  },
  {
   "cell_type": "code",
   "execution_count": 19,
   "metadata": {
    "scrolled": false
   },
   "outputs": [
    {
     "data": {
      "text/plain": [
       "['케이시 (Kassy)',\n",
       " '방탄소년단',\n",
       " '엠씨더맥스 (M.C the MAX)',\n",
       " '폴킴',\n",
       " '폴킴',\n",
       " '태연 (TAEYEON)',\n",
       " '잔나비',\n",
       " '송하예',\n",
       " '마크툽 (MAKTUB)',\n",
       " '청하',\n",
       " '장혜진, 윤민수(바이브)',\n",
       " '엔플라잉 (N.Flying)',\n",
       " 'ITZY (있지)',\n",
       " '장범준',\n",
       " '우디 (Woody)',\n",
       " '황인욱',\n",
       " '볼빨간사춘기',\n",
       " '엠씨더맥스 (M.C the MAX)',\n",
       " '폴킴',\n",
       " '벤',\n",
       " '다비치',\n",
       " '하은',\n",
       " '장범준',\n",
       " 'AKMU (악동뮤지션)',\n",
       " '김나영',\n",
       " '첸 (CHEN)',\n",
       " 'TWICE (트와이스)',\n",
       " '벤',\n",
       " '먼데이 키즈 (Monday Kiz)',\n",
       " 'HYNN (박혜원)',\n",
       " '폴킴',\n",
       " '거미',\n",
       " '태연 (TAEYEON)',\n",
       " '숀 (SHAUN)',\n",
       " '방탄소년단',\n",
       " '방탄소년단',\n",
       " '화사 (Hwa Sa)',\n",
       " '이소라',\n",
       " 'Jvcki Wai, 양홍원, Osshun Gum, 한요한',\n",
       " '윤건',\n",
       " '장범준',\n",
       " 'BLACKPINK',\n",
       " '임한별',\n",
       " '제니 (JENNIE)',\n",
       " '폴킴',\n",
       " '케이윌',\n",
       " 'TWICE (트와이스)',\n",
       " 'EXO',\n",
       " '박효신',\n",
       " '']"
      ]
     },
     "execution_count": 19,
     "metadata": {},
     "output_type": "execute_result"
    }
   ],
   "source": [
    "# 가수 뽑기\n",
    "singer = driver.find_elements_by_class_name('ellipsis.rank02')\n",
    "singer2 = []\n",
    "for i in singer:\n",
    "    singer2.append(i.text)\n",
    "    \n",
    "del singer2[0]\n",
    "del singer2[50:]\n",
    "\n",
    "singer2"
   ]
  },
  {
   "cell_type": "code",
   "execution_count": 35,
   "metadata": {},
   "outputs": [
    {
     "data": {
      "text/plain": [
       "'31324607'"
      ]
     },
     "execution_count": 35,
     "metadata": {},
     "output_type": "execute_result"
    }
   ],
   "source": [
    "# 곡 고유 번호 뽑기 시도\n",
    "driver.get('https://www.melon.com/chart/age/index.htm?chartType=YE&chartGenre=KPOP&chartDate=2019')\n",
    "\n",
    "org = driver.find_element_by_css_selector('#lst50 > td:nth-child(1) > div > input')\n",
    "val = org.get_attribute(\"value\")\n",
    "\n",
    "val"
   ]
  },
  {
   "cell_type": "code",
   "execution_count": 38,
   "metadata": {},
   "outputs": [
    {
     "data": {
      "text/plain": [
       "[]"
      ]
     },
     "execution_count": 38,
     "metadata": {},
     "output_type": "execute_result"
    }
   ],
   "source": [
    "#어떻게 하면 곡 고유 번호를 다 뽑을 수 있을까 고민\n",
    "list1 = []\n",
    "\n",
    "\n",
    "\n",
    "NUM = []\n",
    "for i in number:\n",
    "    driver.get('https://www.melon.com/song/detail.htm?songId=' + i)\n",
    "    lyric = driver.find_element_by_class_name(\"lyric\")\n",
    "    LYRIC.append(lyric.text)"
   ]
  },
  {
   "cell_type": "code",
   "execution_count": 44,
   "metadata": {},
   "outputs": [
    {
     "data": {
      "text/plain": [
       "['31324607',\n",
       " '31524320',\n",
       " '31737197',\n",
       " '31532643',\n",
       " '30962526',\n",
       " '31388145',\n",
       " '31688205',\n",
       " '31666417',\n",
       " '31788850',\n",
       " '31853557',\n",
       " '31532438',\n",
       " '31870517',\n",
       " '31532656',\n",
       " '31606729',\n",
       " '31684636',\n",
       " '31576009',\n",
       " '31873020',\n",
       " '31709523',\n",
       " '31532642',\n",
       " '31984204',\n",
       " '31477685',\n",
       " '31804010',\n",
       " '31406357',\n",
       " '32003395',\n",
       " '32061975',\n",
       " '31854442',\n",
       " '31706215',\n",
       " '31754579',\n",
       " '31901475',\n",
       " '31829536',\n",
       " '31703498',\n",
       " '31565593',\n",
       " '31967064',\n",
       " '31938460',\n",
       " '31151836',\n",
       " '30244931',\n",
       " '31266290',\n",
       " '31608765',\n",
       " '31571110',\n",
       " '31554317',\n",
       " '31455159',\n",
       " '31684634',\n",
       " '31717822',\n",
       " '31304766',\n",
       " '31417871',\n",
       " '8235260',\n",
       " '31373277',\n",
       " '31403163',\n",
       " '31492319',\n",
       " '31777113']"
      ]
     },
     "execution_count": 44,
     "metadata": {},
     "output_type": "execute_result"
    }
   ],
   "source": [
    "#곡 고유 번호 뽑기\n",
    "\n",
    "driver.get('https://www.melon.com/chart/age/index.htm?chartType=YE&chartGenre=KPOP&chartDate=2019')\n",
    "\n",
    "songTagList = driver.find_elements_by_css_selector('#lst50 > td:nth-child(1) > div > input')\n",
    "\n",
    "number = []\n",
    "for i in songTagList:\n",
    "    number.append(i. get_attribute('value'))\n",
    "    \n",
    "number"
   ]
  },
  {
   "cell_type": "code",
   "execution_count": null,
   "metadata": {},
   "outputs": [],
   "source": [
    "\n",
    "\n"
   ]
  },
  {
   "cell_type": "code",
   "execution_count": 23,
   "metadata": {},
   "outputs": [
    {
     "data": {
      "text/plain": [
       "'사랑에 연습이 있었다면\\n우리는 달라졌을까\\n내가 널 만난 시간 혹은 그 장소\\n상황이 달랐었다면\\n우린 맺어졌을까\\n하필 넌\\n왜 내가 그렇게 철없던 시절에\\n나타나서 그렇게 예뻤니\\n너처럼 좋은 여자가\\n왜 날 만나서 그런\\n과분한 사랑 내게 줬는지\\n우리 다시 그때로 돌아가자는게\\n그게 미친말인가\\n정신나간 소린가\\n나는 더 잘 할 수 있고\\n다신 울리지 않을\\n자신있는데 그게 왜 말이 안돼\\n시간이 너무 흘러 알게되었는데\\n너를 울리지 않고 아껴주는법\\n세월은 왜 철없는 날\\n기다려주지 않고\\n흘러갔는지 야속해\\n지금 너 만나는 그에게도\\n내게 그랬던 것처럼\\n예쁘게 웃어주니\\n너처럼 좋은 여자의\\n사랑 받는 그 남자 너무 부러워\\n넌 행복하니\\n니옆에 지금 그 남자가 있는게\\n우리 다시 맺어질수가 없는 이윤가\\n나는 더 잘 할 수 있고\\n다신 울리지 않을\\n자신있는데 그게 왜 말이 안돼\\n시간이 너무 흘러 알게 되었는데\\n너를 울리지 않고 아껴주는 법\\n세월은 왜 널 잊는 법을\\n알려주지 않고 흘러갔는지'"
      ]
     },
     "execution_count": 23,
     "metadata": {},
     "output_type": "execute_result"
    }
   ],
   "source": [
    "#한 곡 가사 뽑기 성공했음.\n",
    "\n",
    "driver.get('https://www.melon.com/chart/age/index.htm?chartType=YE&chartGenre=KPOP&chartDate=2019')\n",
    "\n",
    "search = driver.find_element_by_css_selector('#lst50 > td:nth-child(4) > div > a')\n",
    "time.sleep(1)\n",
    "\n",
    "search.click()\n",
    "time.sleep(1)\n",
    "\n",
    "contents = driver.find_element_by_css_selector('#d_video_summary')\n",
    "time.sleep(1)\n",
    "\n",
    "contents.text"
   ]
  },
  {
   "cell_type": "code",
   "execution_count": null,
   "metadata": {},
   "outputs": [],
   "source": []
  },
  {
   "cell_type": "code",
   "execution_count": null,
   "metadata": {},
   "outputs": [],
   "source": []
  },
  {
   "cell_type": "code",
   "execution_count": null,
   "metadata": {},
   "outputs": [],
   "source": []
  },
  {
   "cell_type": "code",
   "execution_count": 15,
   "metadata": {},
   "outputs": [
    {
     "name": "stdout",
     "output_type": "stream",
     "text": [
      "[<selenium.webdriver.remote.webelement.WebElement (session=\"e2e05f7f79a59509810b47d7c7709053\", element=\"a6b55141-405f-4b4c-897e-687b9e387106\")>, <selenium.webdriver.remote.webelement.WebElement (session=\"e2e05f7f79a59509810b47d7c7709053\", element=\"59b13522-9f5d-46a1-9e04-301b7d9205ca\")>, <selenium.webdriver.remote.webelement.WebElement (session=\"e2e05f7f79a59509810b47d7c7709053\", element=\"683723b3-b7bd-42fb-a8dd-da5ae70fb444\")>, <selenium.webdriver.remote.webelement.WebElement (session=\"e2e05f7f79a59509810b47d7c7709053\", element=\"35914038-8c23-4faa-9ec9-62b10e37b0b2\")>, <selenium.webdriver.remote.webelement.WebElement (session=\"e2e05f7f79a59509810b47d7c7709053\", element=\"a7fd3e6b-49c5-4b45-a77d-315671bd47d3\")>, <selenium.webdriver.remote.webelement.WebElement (session=\"e2e05f7f79a59509810b47d7c7709053\", element=\"e38e0b16-a0cb-432b-bbef-703f560b9ead\")>, <selenium.webdriver.remote.webelement.WebElement (session=\"e2e05f7f79a59509810b47d7c7709053\", element=\"8276d5fc-7646-4c3f-a340-283345a3e8b5\")>, <selenium.webdriver.remote.webelement.WebElement (session=\"e2e05f7f79a59509810b47d7c7709053\", element=\"8dedfce4-f7fe-436f-a0e6-bacb59e0c39c\")>, <selenium.webdriver.remote.webelement.WebElement (session=\"e2e05f7f79a59509810b47d7c7709053\", element=\"24a71c31-f24f-4c03-8135-f59cc1d77e35\")>, <selenium.webdriver.remote.webelement.WebElement (session=\"e2e05f7f79a59509810b47d7c7709053\", element=\"1c26c438-6167-4254-8858-b9de94d4f24c\")>, <selenium.webdriver.remote.webelement.WebElement (session=\"e2e05f7f79a59509810b47d7c7709053\", element=\"86dbe1db-70fc-4843-bfb5-4767c9d1aa09\")>, <selenium.webdriver.remote.webelement.WebElement (session=\"e2e05f7f79a59509810b47d7c7709053\", element=\"f860a084-4ec1-4b79-858a-137c3eb74273\")>, <selenium.webdriver.remote.webelement.WebElement (session=\"e2e05f7f79a59509810b47d7c7709053\", element=\"1041b1c3-084a-4263-a2ef-a1dba86eec92\")>, <selenium.webdriver.remote.webelement.WebElement (session=\"e2e05f7f79a59509810b47d7c7709053\", element=\"e3374b88-5556-4bbd-9852-30ec57d18370\")>, <selenium.webdriver.remote.webelement.WebElement (session=\"e2e05f7f79a59509810b47d7c7709053\", element=\"ea798ac8-3dae-4b88-a276-6c8cb95034fd\")>, <selenium.webdriver.remote.webelement.WebElement (session=\"e2e05f7f79a59509810b47d7c7709053\", element=\"1d470eb2-bba0-4fc3-a5f9-9ae4ea75deb9\")>, <selenium.webdriver.remote.webelement.WebElement (session=\"e2e05f7f79a59509810b47d7c7709053\", element=\"e06ff89f-d8ab-4d8d-85a4-45fb782d6562\")>, <selenium.webdriver.remote.webelement.WebElement (session=\"e2e05f7f79a59509810b47d7c7709053\", element=\"9fa7226f-26d0-4581-9de2-9b0878dc64e7\")>, <selenium.webdriver.remote.webelement.WebElement (session=\"e2e05f7f79a59509810b47d7c7709053\", element=\"b8ea8218-4b6c-4d26-b258-61b4bb4a7247\")>, <selenium.webdriver.remote.webelement.WebElement (session=\"e2e05f7f79a59509810b47d7c7709053\", element=\"bf4e8bdd-a110-4f60-bd1b-ba8366fb59be\")>, <selenium.webdriver.remote.webelement.WebElement (session=\"e2e05f7f79a59509810b47d7c7709053\", element=\"c2f4da27-abe5-40c5-b753-3a0db79efc96\")>, <selenium.webdriver.remote.webelement.WebElement (session=\"e2e05f7f79a59509810b47d7c7709053\", element=\"5f265df7-dfe8-44bd-8969-3b5e421eb10f\")>, <selenium.webdriver.remote.webelement.WebElement (session=\"e2e05f7f79a59509810b47d7c7709053\", element=\"68467ce8-7f12-4547-aab4-f24c575805b4\")>, <selenium.webdriver.remote.webelement.WebElement (session=\"e2e05f7f79a59509810b47d7c7709053\", element=\"e45ebf99-e591-4ffd-9999-2a233f8b26c8\")>, <selenium.webdriver.remote.webelement.WebElement (session=\"e2e05f7f79a59509810b47d7c7709053\", element=\"f5828cca-7161-4256-b039-823ff5ff9850\")>, <selenium.webdriver.remote.webelement.WebElement (session=\"e2e05f7f79a59509810b47d7c7709053\", element=\"7d360875-d08e-421a-8788-7546630ad618\")>, <selenium.webdriver.remote.webelement.WebElement (session=\"e2e05f7f79a59509810b47d7c7709053\", element=\"40e6cdb7-9e4f-4be0-a357-bd1f89a7ec50\")>, <selenium.webdriver.remote.webelement.WebElement (session=\"e2e05f7f79a59509810b47d7c7709053\", element=\"4cd5b5b6-d744-459a-95fe-459f5c938309\")>, <selenium.webdriver.remote.webelement.WebElement (session=\"e2e05f7f79a59509810b47d7c7709053\", element=\"02bcaed4-b79c-4e18-927b-64a9abc1b84d\")>, <selenium.webdriver.remote.webelement.WebElement (session=\"e2e05f7f79a59509810b47d7c7709053\", element=\"0584dc6a-475e-4fff-b229-27d1b1770d86\")>, <selenium.webdriver.remote.webelement.WebElement (session=\"e2e05f7f79a59509810b47d7c7709053\", element=\"f8c32926-9ff3-4858-b2af-eb3d2a8d39c1\")>, <selenium.webdriver.remote.webelement.WebElement (session=\"e2e05f7f79a59509810b47d7c7709053\", element=\"bc0b085f-e084-4909-a817-996b4ac75e3e\")>, <selenium.webdriver.remote.webelement.WebElement (session=\"e2e05f7f79a59509810b47d7c7709053\", element=\"e4ca6711-d071-40a2-893c-776b6acfa8e4\")>, <selenium.webdriver.remote.webelement.WebElement (session=\"e2e05f7f79a59509810b47d7c7709053\", element=\"63bc964f-e623-4288-a206-5dc3d9e3cc71\")>, <selenium.webdriver.remote.webelement.WebElement (session=\"e2e05f7f79a59509810b47d7c7709053\", element=\"19a0131f-1515-48d2-8208-e5d7b5543dd3\")>, <selenium.webdriver.remote.webelement.WebElement (session=\"e2e05f7f79a59509810b47d7c7709053\", element=\"6d093221-9866-40b6-9805-70d20b9628a6\")>, <selenium.webdriver.remote.webelement.WebElement (session=\"e2e05f7f79a59509810b47d7c7709053\", element=\"21f52ff1-7f5f-4ed3-8a49-bdd9950dd592\")>, <selenium.webdriver.remote.webelement.WebElement (session=\"e2e05f7f79a59509810b47d7c7709053\", element=\"b697b002-8086-4350-b6d5-d9c571fd8c8d\")>, <selenium.webdriver.remote.webelement.WebElement (session=\"e2e05f7f79a59509810b47d7c7709053\", element=\"032ac91e-bd73-4ec3-82e7-f314eda71bb3\")>, <selenium.webdriver.remote.webelement.WebElement (session=\"e2e05f7f79a59509810b47d7c7709053\", element=\"01cd40d9-e53d-4d71-8168-932fb30e1404\")>, <selenium.webdriver.remote.webelement.WebElement (session=\"e2e05f7f79a59509810b47d7c7709053\", element=\"0d08cccd-a34d-49f3-ae40-311ec49ac833\")>, <selenium.webdriver.remote.webelement.WebElement (session=\"e2e05f7f79a59509810b47d7c7709053\", element=\"0565102d-6f46-47ac-b4ba-6f969884815d\")>, <selenium.webdriver.remote.webelement.WebElement (session=\"e2e05f7f79a59509810b47d7c7709053\", element=\"5928c9d4-841e-4e28-b715-566e865d39fd\")>, <selenium.webdriver.remote.webelement.WebElement (session=\"e2e05f7f79a59509810b47d7c7709053\", element=\"824b4279-ea50-4a2d-8887-0f0f12d96d3c\")>, <selenium.webdriver.remote.webelement.WebElement (session=\"e2e05f7f79a59509810b47d7c7709053\", element=\"e7ff3638-d5ce-432d-b5da-19bf34731832\")>, <selenium.webdriver.remote.webelement.WebElement (session=\"e2e05f7f79a59509810b47d7c7709053\", element=\"3805d20a-41b8-402f-814d-0515cc5dde94\")>, <selenium.webdriver.remote.webelement.WebElement (session=\"e2e05f7f79a59509810b47d7c7709053\", element=\"02c1c2fd-30de-4c55-aeb8-6b11f35865ea\")>, <selenium.webdriver.remote.webelement.WebElement (session=\"e2e05f7f79a59509810b47d7c7709053\", element=\"cf7e89b4-3ba1-4f03-afcf-2cbc4893dda8\")>, <selenium.webdriver.remote.webelement.WebElement (session=\"e2e05f7f79a59509810b47d7c7709053\", element=\"3aa91ee7-8be1-4f29-9a8d-5fd5c3bacd60\")>, <selenium.webdriver.remote.webelement.WebElement (session=\"e2e05f7f79a59509810b47d7c7709053\", element=\"35b1a9c5-95f5-47db-b3fb-68c759d17f95\")>]\n"
     ]
    }
   ],
   "source": [
    "#r = requests.get('https://www.melon.com/chart/age/index.htm?chartType=YE&chartGenre=KPOP&chartDate=2019')\n",
    "#soup = BeautifulSoup(r.text, \"html.parser\")\n",
    "\n",
    "#target = soup.find_all('input', attrs={'name':'input_check'}).get('value')\n",
    "\n",
    "songTagList = driver.find_elements_by_id('lst50')\n",
    "print(songTagList)\n",
    "#number = []\n",
    "#for i in songTagList:\n",
    "#    number.append(i.get_attribute('data-song-no'))\n",
    "    \n",
    "#number"
   ]
  },
  {
   "cell_type": "code",
   "execution_count": null,
   "metadata": {},
   "outputs": [],
   "source": [
    "LYRIC = []\n",
    "for i in number:\n",
    "    driver.get('https://www.melon.com/song/detail.htm?songId=' + i)\n",
    "    lyric = driver.find_element_by_class_name(\"lyric\")\n",
    "    LYRIC.append(lyric.text)\n",
    "    \n",
    "# \\n 없애기\n",
    "#LYRIC = []\n",
    "#for i in LYRIC:\n",
    "#    LYRIC2.append(i.replace(\"\\n\",\"\"))"
   ]
  },
  {
   "cell_type": "code",
   "execution_count": null,
   "metadata": {},
   "outputs": [],
   "source": [
    "df = pd.DataFrame({\"제목\":title2, \"가수\":singer2, \"가사\":LYRIC})\n",
    "df.to_excel(\"멜론TOP50 가사.xlsx\", encoding='utf-8')"
   ]
  }
 ],
 "metadata": {
  "kernelspec": {
   "display_name": "Python 3",
   "language": "python",
   "name": "python3"
  },
  "language_info": {
   "codemirror_mode": {
    "name": "ipython",
    "version": 3
   },
   "file_extension": ".py",
   "mimetype": "text/x-python",
   "name": "python",
   "nbconvert_exporter": "python",
   "pygments_lexer": "ipython3",
   "version": "3.8.3"
  }
 },
 "nbformat": 4,
 "nbformat_minor": 4
}
